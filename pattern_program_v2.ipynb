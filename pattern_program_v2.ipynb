{
 "cells": [
  {
   "cell_type": "code",
   "execution_count": null,
   "metadata": {},
   "outputs": [],
   "source": [
    "def print_rectangle(char, m, n, pattern_type):\n",
    "    for i in range(1, m+1):\n",
    "        if pattern_type == \"H\":\n",
    "            if i == 1 or i == m:\n",
    "                print(char * n)\n",
    "            else:\n",
    "                print(char + ' ' * (n-2) + char)\n",
    "        else:\n",
    "            print(char * n)\n",
    "\n",
    "def print_triangle(char, m, pattern_type):\n",
    "    for i in range(1, m+1):\n",
    "        if pattern_type == \"H\":\n",
    "            if i == 1 or i == m:\n",
    "                print(char * i)\n",
    "            else:\n",
    "                print(char + ' ' * (i-2) + char)\n",
    "        else:\n",
    "            print(char * i)\n",
    "\n",
    "def get_valid_pattern_type():\n",
    "    while True:\n",
    "        pattern_type = input(\"Enter type H (Hollow) or F (Filled): \").upper()\n",
    "        if pattern_type in [\"H\", \"F\"]:\n",
    "            return pattern_type\n",
    "        else:\n",
    "            print(\"Invalid input. Try again...\")\n",
    "\n",
    "# ---- MAIN ----\n",
    "print(\"Choose Shape:\")\n",
    "print(\"1. Rectangle\")\n",
    "print(\"2. Triangle\")\n",
    "choice = int(input(\"Enter choice (1/2): \"))\n",
    "\n",
    "m = int(input(\"Rows: \"))\n",
    "char = input(\"Character: \")\n",
    "pattern_type = get_valid_pattern_type()\n",
    "\n",
    "if choice == 1:\n",
    "    n = int(input(\"Columns: \"))\n",
    "    print_rectangle(char=char, m=m, n=n, pattern_type=pattern_type)\n",
    "elif choice == 2:\n",
    "    print_triangle(char=char, m=m, pattern_type=pattern_type)\n",
    "else:\n",
    "    print(\"Invalid choice!\")\n"
   ]
  }
 ],
 "metadata": {
  "language_info": {
   "name": "python"
  }
 },
 "nbformat": 4,
 "nbformat_minor": 2
}
