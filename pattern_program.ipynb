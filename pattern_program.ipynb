{
 "cells": [
  {
   "cell_type": "code",
   "execution_count": null,
   "metadata": {},
   "outputs": [],
   "source": [
    "def  print_pattern(char, m, n, pattern_type):\n",
    "\n",
    "    if pattern_type == \"H\":\n",
    "        i = 1\n",
    "        while i <= m:\n",
    "            if i == 1 or i == m:\n",
    "                print(char * n)\n",
    "            else:\n",
    "                print(char + ' ' * (n-2) + char)\n",
    "            i += 1\n",
    "\n",
    "    else:\n",
    "        i = 1\n",
    "        while i <= m:\n",
    "            print(char * n)\n",
    "            i += 1\n",
    "\n",
    "def get_valid_pattern_type():\n",
    "    while True:\n",
    "        pattern_type = input(\"Enter type H or F: \").upper()\n",
    "        if pattern_type in [\"H\",\"F\"]:\n",
    "            return pattern_type\n",
    "        else:\n",
    "            print(\"Invalid input...\") \n",
    "\n",
    "m = int(input(\"Rows: \"))\n",
    "n = int(input(\"Columns: \"))\n",
    "char = input(\"Character: \")\n",
    "\n",
    "pattern_type = get_valid_pattern_type()\n",
    "print_pattern(char, m, n, pattern_type)"
   ]
  }
 ],
 "metadata": {
  "language_info": {
   "name": "python"
  }
 },
 "nbformat": 4,
 "nbformat_minor": 2
}
